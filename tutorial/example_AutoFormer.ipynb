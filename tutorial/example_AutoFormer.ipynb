{
 "cells": [
  {
   "cell_type": "markdown",
   "id": "5bc1132e-3eea-4150-b83c-96d6f6d890cb",
   "metadata": {},
   "source": [
    "**AutoFormer**\n",
    "\n",
    "python -u run.py \\\n",
    "  --task_name classification \\\n",
    "  --is_training 1 \\\n",
    "  --root_path ./dataset/EthanolConcentration/ \\\n",
    "  --model_id EthanolConcentration \\\n",
    "  --model $model_name \\\n",
    "  --data UEA \\\n",
    "  --e_layers 3 \\\n",
    "  --batch_size 16 \\\n",
    "  --d_model 128 \\\n",
    "  --d_ff 256 \\\n",
    "  --top_k 3 \\\n",
    "  --des 'Exp' \\\n",
    "  --itr 1 \\\n",
    "  --learning_rate 0.001 \\\n",
    "  --train_epochs 100 \\\n",
    "  --patience 10"
   ]
  },
  {
   "cell_type": "code",
   "execution_count": 16,
   "id": "bb2fda9d-5aac-4fb0-852d-e68ac24e525f",
   "metadata": {},
   "outputs": [],
   "source": [
    "import torch    \n",
    "import torch.nn as nn\n",
    "import torch.fft\n",
    "from torch.utils.data import Dataset, DataLoader\n",
    "from torch import optim\n",
    "import sys\n",
    "import argparse\n",
    "from sklearn import metrics"
   ]
  },
  {
   "cell_type": "code",
   "execution_count": 2,
   "id": "85fc73bd-b2fc-4353-aac1-64be7618ef4d",
   "metadata": {},
   "outputs": [],
   "source": [
    "sys.path.insert(0, \"../\")\n",
    "from models.Autoformer import Model"
   ]
  },
  {
   "cell_type": "code",
   "execution_count": 3,
   "id": "b08b050d-9328-4101-b091-4a873c928aa2",
   "metadata": {},
   "outputs": [],
   "source": [
    "from pathlib import Path\n",
    "import os\n",
    "from sklearn.model_selection import train_test_split\n",
    "import pandas as pd\n",
    "import numpy as np\n",
    "import time\n",
    "import copy"
   ]
  },
  {
   "cell_type": "code",
   "execution_count": 4,
   "id": "15263bca-910b-4761-95ca-a96f86c07e3f",
   "metadata": {},
   "outputs": [],
   "source": [
    "data_dir = \"/fs01/home/chloexq/MIMIC-IV-Data-Pipeline/data/csv\""
   ]
  },
  {
   "cell_type": "code",
   "execution_count": 5,
   "id": "bef68781-fd39-4a40-9f36-af5f9ae19722",
   "metadata": {},
   "outputs": [],
   "source": [
    "df = pd.read_csv(Path(data_dir, 'labels.csv'))"
   ]
  },
  {
   "cell_type": "code",
   "execution_count": 6,
   "id": "bccd58fa-b046-4ae7-805c-9b7ee59afb27",
   "metadata": {},
   "outputs": [],
   "source": [
    "train_patient_list, test_patient_list, _, test_y = train_test_split(df.stay_id.astype(str).values, df.label.values, stratify=df.label.values, test_size=0.3, random_state=42)"
   ]
  },
  {
   "cell_type": "code",
   "execution_count": 7,
   "id": "83b8f977-8640-4609-a49c-6bfc6443d6cb",
   "metadata": {},
   "outputs": [],
   "source": [
    "val_patient_list, test_patient_list = train_test_split(test_patient_list, stratify=test_y, test_size=0.5, random_state=42)"
   ]
  },
  {
   "cell_type": "code",
   "execution_count": 8,
   "id": "6153f1c4-5ce9-4877-9222-2cd27ec94768",
   "metadata": {},
   "outputs": [
    {
     "name": "stdout",
     "output_type": "stream",
     "text": [
      "37 8 9\n"
     ]
    }
   ],
   "source": [
    "print(len(train_patient_list), len(val_patient_list), len(test_patient_list))"
   ]
  },
  {
   "cell_type": "code",
   "execution_count": 9,
   "id": "2737008c-df8e-47a9-b0a6-878e6540fe6b",
   "metadata": {},
   "outputs": [],
   "source": [
    "class MIMIC_Dataset(Dataset):\n",
    "    def __init__(self, data_dir, patient_list):\n",
    "        self.data_dir = data_dir\n",
    "        self.patient_list = patient_list\n",
    "        self.labels = pd.read_csv(Path(data_dir, 'labels.csv'))\n",
    "    def __getitem__(self, index):\n",
    "        patient = self.patient_list[index]\n",
    "        df = pd.read_csv(Path(data_dir, patient, 'dynamic.csv'))\n",
    "        # TODO: Normalize and forward-fill\n",
    "        data = torch.tensor(df.values).float()\n",
    "        padding_mask = torch.ones(data.shape[0:1]).float()\n",
    "        label = torch.tensor(self.labels[self.labels['stay_id'].astype(str) == patient].label.values[0]).long()\n",
    "        return data, label, padding_mask\n",
    "    def __len__(self):\n",
    "        return len(self.patient_list)"
   ]
  },
  {
   "cell_type": "code",
   "execution_count": 10,
   "id": "cb54a2e1-c7c6-4481-924c-74fcd78b0151",
   "metadata": {},
   "outputs": [],
   "source": [
    "train_dataset = MIMIC_Dataset(data_dir, train_patient_list)\n",
    "val_dataset = MIMIC_Dataset(data_dir, val_patient_list)\n",
    "test_dataset = MIMIC_Dataset(data_dir, test_patient_list)"
   ]
  },
  {
   "cell_type": "code",
   "execution_count": 11,
   "id": "d25ec515-b5f7-4680-80fe-b177110104c2",
   "metadata": {},
   "outputs": [],
   "source": [
    "train_loader = DataLoader(train_dataset, batch_size=16, shuffle=True)\n",
    "val_loader = DataLoader(val_dataset, batch_size=16, shuffle=True)\n",
    "test_loader = DataLoader(test_dataset, batch_size=16, shuffle=False)"
   ]
  },
  {
   "cell_type": "code",
   "execution_count": 12,
   "id": "80d8831d-eeae-4ccd-a86c-652e28b2b17e",
   "metadata": {},
   "outputs": [
    {
     "name": "stdout",
     "output_type": "stream",
     "text": [
      "73 384\n"
     ]
    }
   ],
   "source": [
    "max_seq_len = train_dataset[0][0].shape[0]\n",
    "feature_size = train_dataset[0][0].shape[1]\n",
    "print(max_seq_len, feature_size)"
   ]
  },
  {
   "cell_type": "code",
   "execution_count": 17,
   "id": "1402d4d1-1bb2-47b3-8114-c9308d1551d4",
   "metadata": {},
   "outputs": [],
   "source": [
    "configs = {\n",
    "    \"model_name\": 'AutoFormer',\n",
    "    \"task_name\": \"classification\",\n",
    "    \"e_layers\": 3,\n",
    "    \"d_model\": 128,\n",
    "    \"n_heads\": 8,\n",
    "    \"label_len\": 2,\n",
    "    \"num_class\": 2,\n",
    "    \"pred_len\": 0,\n",
    "    \"seq_len\": max_seq_len, #TO UPDATE\n",
    "    \"moving_avg\": 25,\n",
    "    \"output_attention\": \"store_true\",\n",
    "    \"enc_in\": feature_size, #TO UPDATE \n",
    "    \"embed\": \"timeF\",\n",
    "    \"freq\": \"h\",\n",
    "    \"dropout\": 0.1,\n",
    "    \"factor\": 1,\n",
    "    \"d_ff\": 256,\n",
    "    \"activation\": \"gelu\",\n",
    "}"
   ]
  },
  {
   "cell_type": "code",
   "execution_count": 18,
   "id": "c24cadb0-c4f0-4598-8488-7f2277da9dae",
   "metadata": {},
   "outputs": [],
   "source": [
    "args = argparse.Namespace()\n",
    "d = vars(args)\n",
    "for key in configs:\n",
    "    d[key] = configs[key]"
   ]
  },
  {
   "cell_type": "code",
   "execution_count": 29,
   "id": "74d1c30d-2772-40f5-83d1-48345075f4f8",
   "metadata": {},
   "outputs": [],
   "source": [
    "def evaluate(loader, model, criterion):\n",
    "    total_loss = []\n",
    "    preds = []\n",
    "    trues = []\n",
    "    metric_dict = {}\n",
    "    model.eval()\n",
    "    with torch.no_grad():\n",
    "        for i, (batch_x, label, padding_mask) in enumerate(loader):\n",
    "            batch_x = batch_x.float().to(device)\n",
    "            padding_mask = padding_mask.float().to(device)\n",
    "            label = label.to(device)\n",
    "            outputs = model(batch_x, padding_mask, None, None)\n",
    "            pred = outputs.detach().cpu()\n",
    "            loss = criterion(pred, label.long().squeeze().cpu())\n",
    "            total_loss.append(loss)\n",
    "            preds.append(outputs.detach())\n",
    "            trues.append(label)\n",
    "    total_loss = np.average(total_loss)\n",
    "    preds = torch.cat(preds, 0)\n",
    "    trues = torch.cat(trues, 0)\n",
    "    probs = torch.nn.functional.softmax(preds, dim=0)  # (total_samples, num_classes) est. prob. for each class and sample\n",
    "    predictions = torch.argmax(probs, dim=1).cpu().numpy()  # (total_samples,) int class index for each sample\n",
    "    trues = trues.flatten().cpu().numpy()\n",
    "    if trues.sum() > 0:\n",
    "        metric_dict['AUC'] = metrics.roc_auc_score(trues, probs.cpu().numpy()[:, 1])\n",
    "        metric_dict['recall'] = metrics.recall_score(trues, predictions)\n",
    "    else:\n",
    "        metric_dict['AUC'] = np.nan\n",
    "        metric_dict['recall'] = np.nan\n",
    "    metric_dict['accuracy'] = metrics.accuracy_score(trues, predictions)\n",
    "    metric_dict['f1'] = metrics.f1_score(trues, predictions)\n",
    "    metric_dict['precision'] = metrics.precision_score(trues, predictions)\n",
    "    metric_dict['loss'] = total_loss\n",
    "    return metric_dict"
   ]
  },
  {
   "cell_type": "code",
   "execution_count": 30,
   "id": "3db9fa64-88ed-48ff-b324-1d6d7f8133d8",
   "metadata": {},
   "outputs": [],
   "source": [
    "device = torch.device(\"cuda\" if torch.cuda.is_available() else \"cpu\")"
   ]
  },
  {
   "cell_type": "code",
   "execution_count": 31,
   "id": "62ee32e2-2d51-41ea-8f91-61a930f46748",
   "metadata": {},
   "outputs": [],
   "source": [
    "model = Model(args).float().to(device)"
   ]
  },
  {
   "cell_type": "code",
   "execution_count": 32,
   "id": "5c7416b8-3c92-4a1f-a8e8-0adcf1d56366",
   "metadata": {},
   "outputs": [],
   "source": [
    "model_optim = optim.Adam(model.parameters(), lr=0.001)\n",
    "criterion = nn.CrossEntropyLoss()"
   ]
  },
  {
   "cell_type": "code",
   "execution_count": 33,
   "id": "84e5596a-0b1e-43b1-8a99-eac48d13a4b1",
   "metadata": {},
   "outputs": [
    {
     "name": "stdout",
     "output_type": "stream",
     "text": [
      "Epoch: 1 cost time: 0.7126014232635498\n",
      "Train Loss: 0.670 Val Loss: 1.744 Val Acc: 0.250 Val AUC: 1.000 Val Prec: 0.143 Val Rec: 1.000 Vali F1: 0.250\n",
      "Test Loss: 1.564 Test Acc: 0.444 Test AUC: 0.929 Test Prec: 0.286 Test Rec: 1.000 Test F1: 0.444\n",
      "Best model val loss 1.744\n",
      "############################################################################################\n",
      "Epoch: 2 cost time: 0.640775203704834\n",
      "Train Loss: 0.641 Val Loss: 1.049 Val Acc: 0.500 Val AUC: 1.000 Val Prec: 0.200 Val Rec: 1.000 Vali F1: 0.333\n",
      "Test Loss: 1.864 Test Acc: 0.556 Test AUC: 0.714 Test Prec: 0.333 Test Rec: 1.000 Test F1: 0.500\n",
      "Best model val loss 1.049\n",
      "############################################################################################\n",
      "Epoch: 3 cost time: 0.696925163269043\n",
      "Train Loss: 1.591 Val Loss: 0.633 Val Acc: 0.250 Val AUC: 0.714 Val Prec: 0.143 Val Rec: 1.000 Vali F1: 0.250\n",
      "Test Loss: 1.122 Test Acc: 0.667 Test AUC: 0.571 Test Prec: 0.000 Test Rec: 0.000 Test F1: 0.000\n",
      "Best model val loss 0.633\n",
      "############################################################################################\n",
      "Epoch: 4 cost time: 0.6941554546356201\n",
      "Train Loss: 0.518 Val Loss: 0.473 Val Acc: 0.250 Val AUC: 1.000 Val Prec: 0.143 Val Rec: 1.000 Vali F1: 0.250\n",
      "Test Loss: 0.627 Test Acc: 0.667 Test AUC: 0.643 Test Prec: 0.000 Test Rec: 0.000 Test F1: 0.000\n",
      "Best model val loss 0.473\n",
      "############################################################################################\n",
      "Epoch: 5 cost time: 0.7054765224456787\n",
      "Train Loss: 1.076 Val Loss: 0.410 Val Acc: 0.500 Val AUC: 1.000 Val Prec: 0.200 Val Rec: 1.000 Vali F1: 0.333\n",
      "Test Loss: 0.502 Test Acc: 0.333 Test AUC: 0.357 Test Prec: 0.250 Test Rec: 1.000 Test F1: 0.400\n",
      "Best model val loss 0.410\n",
      "############################################################################################\n",
      "Epoch: 6 cost time: 0.6923670768737793\n",
      "Train Loss: 0.588 Val Loss: 0.717 Val Acc: 0.250 Val AUC: 0.571 Val Prec: 0.143 Val Rec: 1.000 Vali F1: 0.250\n",
      "Test Loss: 1.273 Test Acc: 0.556 Test AUC: 0.143 Test Prec: 0.000 Test Rec: 0.000 Test F1: 0.000\n",
      "############################################################################################\n",
      "Epoch: 7 cost time: 0.6868517398834229\n",
      "Train Loss: 0.914 Val Loss: 0.791 Val Acc: 0.250 Val AUC: 1.000 Val Prec: 0.143 Val Rec: 1.000 Vali F1: 0.250\n",
      "Test Loss: 1.405 Test Acc: 0.444 Test AUC: 0.071 Test Prec: 0.000 Test Rec: 0.000 Test F1: 0.000\n",
      "############################################################################################\n",
      "Epoch: 8 cost time: 0.6933112144470215\n",
      "Train Loss: 0.775 Val Loss: 1.292 Val Acc: 0.750 Val AUC: 1.000 Val Prec: 0.333 Val Rec: 1.000 Vali F1: 0.500\n",
      "Test Loss: 1.267 Test Acc: 0.667 Test AUC: 0.071 Test Prec: 0.000 Test Rec: 0.000 Test F1: 0.000\n",
      "############################################################################################\n",
      "Epoch: 9 cost time: 0.6896774768829346\n",
      "Train Loss: 1.758 Val Loss: 1.196 Val Acc: 0.750 Val AUC: 1.000 Val Prec: 0.333 Val Rec: 1.000 Vali F1: 0.500\n",
      "Test Loss: 1.098 Test Acc: 0.556 Test AUC: 0.000 Test Prec: 0.000 Test Rec: 0.000 Test F1: 0.000\n",
      "############################################################################################\n",
      "Epoch: 10 cost time: 0.6748626232147217\n",
      "Train Loss: 0.766 Val Loss: 0.499 Val Acc: 0.750 Val AUC: 1.000 Val Prec: 0.333 Val Rec: 1.000 Vali F1: 0.500\n",
      "Test Loss: 0.870 Test Acc: 0.333 Test AUC: 0.000 Test Prec: 0.000 Test Rec: 0.000 Test F1: 0.000\n",
      "############################################################################################\n",
      "Epoch: 11 cost time: 0.7165780067443848\n",
      "Train Loss: 0.535 Val Loss: 0.379 Val Acc: 0.750 Val AUC: 1.000 Val Prec: 0.333 Val Rec: 1.000 Vali F1: 0.500\n",
      "Test Loss: 0.587 Test Acc: 0.222 Test AUC: 0.000 Test Prec: 0.000 Test Rec: 0.000 Test F1: 0.000\n",
      "Best model val loss 0.379\n",
      "############################################################################################\n",
      "Epoch: 12 cost time: 0.633094072341919\n",
      "Train Loss: 0.578 Val Loss: 0.379 Val Acc: 0.750 Val AUC: 1.000 Val Prec: 0.000 Val Rec: 0.000 Vali F1: 0.000\n",
      "Test Loss: 0.548 Test Acc: 0.222 Test AUC: 0.071 Test Prec: 0.000 Test Rec: 0.000 Test F1: 0.000\n",
      "############################################################################################\n",
      "Epoch: 13 cost time: 0.6036956310272217\n",
      "Train Loss: 0.506 Val Loss: 0.381 Val Acc: 0.750 Val AUC: 1.000 Val Prec: 0.000 Val Rec: 0.000 Vali F1: 0.000\n",
      "Test Loss: 0.597 Test Acc: 0.333 Test AUC: 0.143 Test Prec: 0.167 Test Rec: 0.500 Test F1: 0.250\n",
      "############################################################################################\n",
      "Epoch: 14 cost time: 0.6087584495544434\n",
      "Train Loss: 0.459 Val Loss: 0.609 Val Acc: 0.375 Val AUC: 1.000 Val Prec: 0.000 Val Rec: 0.000 Vali F1: 0.000\n",
      "Test Loss: 0.633 Test Acc: 0.333 Test AUC: 0.214 Test Prec: 0.167 Test Rec: 0.500 Test F1: 0.250\n",
      "############################################################################################\n",
      "Epoch: 15 cost time: 0.6300749778747559\n",
      "Train Loss: 0.827 Val Loss: 0.411 Val Acc: 0.250 Val AUC: 0.571 Val Prec: 0.000 Val Rec: 0.000 Vali F1: 0.000\n",
      "Test Loss: 0.530 Test Acc: 0.333 Test AUC: 0.214 Test Prec: 0.167 Test Rec: 0.500 Test F1: 0.250\n",
      "############################################################################################\n",
      "Epoch: 16 cost time: 0.71044921875\n",
      "Train Loss: 0.454 Val Loss: 0.379 Val Acc: 0.250 Val AUC: 0.286 Val Prec: 0.000 Val Rec: 0.000 Vali F1: 0.000\n",
      "Test Loss: 0.585 Test Acc: 0.333 Test AUC: 0.143 Test Prec: 0.167 Test Rec: 0.500 Test F1: 0.250\n",
      "Best model val loss 0.379\n",
      "############################################################################################\n",
      "Epoch: 17 cost time: 0.6861007213592529\n",
      "Train Loss: 0.569 Val Loss: 0.723 Val Acc: 0.250 Val AUC: 0.286 Val Prec: 0.000 Val Rec: 0.000 Vali F1: 0.000\n",
      "Test Loss: 0.716 Test Acc: 0.222 Test AUC: 0.143 Test Prec: 0.000 Test Rec: 0.000 Test F1: 0.000\n",
      "############################################################################################\n",
      "Epoch: 18 cost time: 0.685603141784668\n",
      "Train Loss: 0.704 Val Loss: 0.403 Val Acc: 0.250 Val AUC: 0.286 Val Prec: 0.000 Val Rec: 0.000 Vali F1: 0.000\n",
      "Test Loss: 0.530 Test Acc: 0.222 Test AUC: 0.143 Test Prec: 0.000 Test Rec: 0.000 Test F1: 0.000\n",
      "############################################################################################\n",
      "Epoch: 19 cost time: 0.6755716800689697\n",
      "Train Loss: 0.449 Val Loss: 0.378 Val Acc: 0.375 Val AUC: 0.286 Val Prec: 0.167 Val Rec: 1.000 Vali F1: 0.286\n",
      "Test Loss: 0.579 Test Acc: 0.222 Test AUC: 0.143 Test Prec: 0.143 Test Rec: 0.500 Test F1: 0.222\n",
      "Best model val loss 0.378\n",
      "############################################################################################\n",
      "Epoch: 20 cost time: 0.6784913539886475\n",
      "Train Loss: 0.559 Val Loss: 0.537 Val Acc: 0.250 Val AUC: 0.714 Val Prec: 0.143 Val Rec: 1.000 Vali F1: 0.250\n",
      "Test Loss: 0.586 Test Acc: 0.222 Test AUC: 0.214 Test Prec: 0.000 Test Rec: 0.000 Test F1: 0.000\n",
      "############################################################################################\n",
      "Epoch: 21 cost time: 0.6841881275177002\n",
      "Train Loss: 0.507 Val Loss: 0.493 Val Acc: 0.250 Val AUC: 0.857 Val Prec: 0.143 Val Rec: 1.000 Vali F1: 0.250\n",
      "Test Loss: 0.859 Test Acc: 0.222 Test AUC: 0.214 Test Prec: 0.000 Test Rec: 0.000 Test F1: 0.000\n",
      "############################################################################################\n",
      "Epoch: 22 cost time: 0.6824653148651123\n",
      "Train Loss: 0.490 Val Loss: 0.378 Val Acc: 0.250 Val AUC: 0.857 Val Prec: 0.143 Val Rec: 1.000 Vali F1: 0.250\n",
      "Test Loss: 0.554 Test Acc: 0.222 Test AUC: 0.214 Test Prec: 0.000 Test Rec: 0.000 Test F1: 0.000\n",
      "############################################################################################\n",
      "Epoch: 23 cost time: 0.6822338104248047\n",
      "Train Loss: 0.414 Val Loss: 0.411 Val Acc: 0.250 Val AUC: 0.714 Val Prec: 0.143 Val Rec: 1.000 Vali F1: 0.250\n",
      "Test Loss: 0.530 Test Acc: 0.222 Test AUC: 0.214 Test Prec: 0.000 Test Rec: 0.000 Test F1: 0.000\n",
      "############################################################################################\n",
      "Epoch: 24 cost time: 0.690697193145752\n",
      "Train Loss: 0.613 Val Loss: 0.401 Val Acc: 0.250 Val AUC: 0.571 Val Prec: 0.143 Val Rec: 1.000 Vali F1: 0.250\n",
      "Test Loss: 0.661 Test Acc: 0.333 Test AUC: 0.214 Test Prec: 0.000 Test Rec: 0.000 Test F1: 0.000\n",
      "############################################################################################\n",
      "Epoch: 25 cost time: 0.6828029155731201\n",
      "Train Loss: 0.525 Val Loss: 0.383 Val Acc: 0.250 Val AUC: 0.571 Val Prec: 0.143 Val Rec: 1.000 Vali F1: 0.250\n",
      "Test Loss: 0.541 Test Acc: 0.444 Test AUC: 0.214 Test Prec: 0.200 Test Rec: 0.500 Test F1: 0.286\n",
      "############################################################################################\n",
      "Epoch: 26 cost time: 0.7034757137298584\n",
      "Train Loss: 0.429 Val Loss: 0.457 Val Acc: 0.250 Val AUC: 0.571 Val Prec: 0.143 Val Rec: 1.000 Vali F1: 0.250\n",
      "Test Loss: 0.787 Test Acc: 0.444 Test AUC: 0.214 Test Prec: 0.200 Test Rec: 0.500 Test F1: 0.286\n",
      "############################################################################################\n",
      "Epoch: 27 cost time: 0.6777522563934326\n",
      "Train Loss: 0.579 Val Loss: 0.560 Val Acc: 0.375 Val AUC: 0.857 Val Prec: 0.167 Val Rec: 1.000 Vali F1: 0.286\n",
      "Test Loss: 0.987 Test Acc: 0.556 Test AUC: 0.286 Test Prec: 0.250 Test Rec: 0.500 Test F1: 0.333\n",
      "############################################################################################\n",
      "Epoch: 28 cost time: 0.6778638362884521\n",
      "Train Loss: 0.620 Val Loss: 0.641 Val Acc: 0.250 Val AUC: 0.429 Val Prec: 0.143 Val Rec: 1.000 Vali F1: 0.250\n",
      "Test Loss: 0.631 Test Acc: 0.333 Test AUC: 0.286 Test Prec: 0.250 Test Rec: 1.000 Test F1: 0.400\n",
      "############################################################################################\n",
      "Epoch: 29 cost time: 0.6880671977996826\n",
      "Train Loss: 0.740 Val Loss: 0.715 Val Acc: 0.250 Val AUC: 0.429 Val Prec: 0.143 Val Rec: 1.000 Vali F1: 0.250\n",
      "Test Loss: 0.710 Test Acc: 0.222 Test AUC: 0.071 Test Prec: 0.000 Test Rec: 0.000 Test F1: 0.000\n",
      "############################################################################################\n",
      "Early stopping\n"
     ]
    }
   ],
   "source": [
    "patience = 10\n",
    "counter = 0\n",
    "best_val_loss = 999\n",
    "\n",
    "for epoch in range(100):\n",
    "    iter_count = 0\n",
    "    train_loss = []\n",
    "    model.train()\n",
    "    epoch_time = time.time()\n",
    "    for i, (batch_x, label, padding_mask) in enumerate(train_loader):\n",
    "        iter_count += 1\n",
    "        model_optim.zero_grad()\n",
    "        batch_x = batch_x.float().to(device)\n",
    "        padding_mask = padding_mask.float().to(device)\n",
    "        label = label.to(device)\n",
    "        outputs = model(batch_x, padding_mask, None, None)\n",
    "        loss = criterion(outputs, label.long().squeeze(-1))\n",
    "        train_loss.append(loss.item())\n",
    "\n",
    "        if (i + 1) % 100 == 0:\n",
    "            print(\"\\titers: {0}, epoch: {1} | loss: {2:.7f}\".format(i + 1, epoch + 1, loss.item()))\n",
    "            speed = (time.time() - time_now) / iter_count\n",
    "            left_time = speed * ((self.args.train_epochs - epoch) * train_steps - i)\n",
    "            print('\\tspeed: {:.4f}s/iter; left time: {:.4f}s'.format(speed, left_time))\n",
    "            iter_count = 0\n",
    "            time_now = time.time()\n",
    "            \n",
    "        loss.backward()\n",
    "        nn.utils.clip_grad_norm_(model.parameters(), max_norm=4.0)\n",
    "        model_optim.step()\n",
    "\n",
    "    print(\"Epoch: {} cost time: {}\".format(epoch + 1, time.time() - epoch_time))\n",
    "    train_loss = np.average(train_loss)\n",
    "    val_metrics = evaluate(val_loader, model, criterion)\n",
    "    test_metrics = evaluate(test_loader, model, criterion)\n",
    "    print(\"Train Loss: {:.3f} Val Loss: {:.3f} Val Acc: {:.3f} Val AUC: {:.3f} Val Prec: {:.3f} Val Rec: {:.3f} Vali F1: {:.3f}\"\n",
    "          .format(train_loss, val_metrics['loss'], val_metrics['accuracy'], val_metrics['AUC'], val_metrics['precision'], val_metrics['recall'], val_metrics['f1']))\n",
    "    print(\"Test Loss: {:.3f} Test Acc: {:.3f} Test AUC: {:.3f} Test Prec: {:.3f} Test Rec: {:.3f} Test F1: {:.3f}\"\n",
    "          .format(test_metrics['loss'], test_metrics['accuracy'], test_metrics['AUC'], test_metrics['precision'], test_metrics['recall'], test_metrics['f1']))\n",
    " \n",
    "    if val_metrics['loss'] < best_val_loss:\n",
    "        print('Best model val loss {:.3f}'.format(val_metrics['loss']))\n",
    "        best_model = copy.deepcopy(model)\n",
    "        best_val_loss = val_metrics['loss']\n",
    "        counter = 0\n",
    "    else:\n",
    "        counter+=1\n",
    "    print('############################################################################################')\n",
    "    if counter >= patience:\n",
    "        print(\"Early stopping\")\n",
    "        break"
   ]
  },
  {
   "cell_type": "code",
   "execution_count": 34,
   "id": "6eadfbb7-9175-4ec5-9c56-a378c6f68262",
   "metadata": {},
   "outputs": [
    {
     "name": "stdout",
     "output_type": "stream",
     "text": [
      "save to /h/chloexq/Time-Series-Library/save/dev_AutoFormer-Oct21-21-35\n"
     ]
    }
   ],
   "source": [
    "save_dir = Path(f\"/h/chloexq/Time-Series-Library/save/dev_{args.model_name}-{time.strftime('%b%d-%H-%M')}/\")\n",
    "save_dir.mkdir(parents=True, exist_ok=True)\n",
    "print(f\"save to {save_dir}\")\n",
    "best_model_path = Path(save_dir, 'best_model.pt')\n",
    "torch.save(best_model.state_dict(), best_model_path)"
   ]
  },
  {
   "cell_type": "code",
   "execution_count": 35,
   "id": "dc6329ff-9d9a-4dba-beae-04045ce834fa",
   "metadata": {},
   "outputs": [
    {
     "data": {
      "text/plain": [
       "<All keys matched successfully>"
      ]
     },
     "execution_count": 35,
     "metadata": {},
     "output_type": "execute_result"
    }
   ],
   "source": [
    "model.load_state_dict(torch.load(best_model_path))  "
   ]
  }
 ],
 "metadata": {
  "kernelspec": {
   "display_name": "Python 3 (ipykernel)",
   "language": "python",
   "name": "python3"
  },
  "language_info": {
   "codemirror_mode": {
    "name": "ipython",
    "version": 3
   },
   "file_extension": ".py",
   "mimetype": "text/x-python",
   "name": "python",
   "nbconvert_exporter": "python",
   "pygments_lexer": "ipython3",
   "version": "3.8.3"
  }
 },
 "nbformat": 4,
 "nbformat_minor": 5
}
